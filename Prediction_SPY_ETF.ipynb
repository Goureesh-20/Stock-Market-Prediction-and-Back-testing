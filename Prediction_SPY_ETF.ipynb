{
 "cells": [
  {
   "cell_type": "code",
   "execution_count": 16,
   "metadata": {},
   "outputs": [],
   "source": [
    "import matplotlib.pyplot as plt\n",
    "import pandas as pd\n",
    "from sklearn.metrics import precision_score\n",
    "import yfinance as yf\n",
    "from sklearn.ensemble import RandomForestClassifier"
   ]
  },
  {
   "cell_type": "code",
   "execution_count": 9,
   "metadata": {},
   "outputs": [],
   "source": [
    "spy = yf.Ticker(\"SPY\")"
   ]
  },
  {
   "cell_type": "code",
   "execution_count": 10,
   "metadata": {},
   "outputs": [
    {
     "data": {
      "text/html": [
       "<div>\n",
       "<style scoped>\n",
       "    .dataframe tbody tr th:only-of-type {\n",
       "        vertical-align: middle;\n",
       "    }\n",
       "\n",
       "    .dataframe tbody tr th {\n",
       "        vertical-align: top;\n",
       "    }\n",
       "\n",
       "    .dataframe thead th {\n",
       "        text-align: right;\n",
       "    }\n",
       "</style>\n",
       "<table border=\"1\" class=\"dataframe\">\n",
       "  <thead>\n",
       "    <tr style=\"text-align: right;\">\n",
       "      <th></th>\n",
       "      <th>Open</th>\n",
       "      <th>High</th>\n",
       "      <th>Low</th>\n",
       "      <th>Close</th>\n",
       "      <th>Volume</th>\n",
       "      <th>Dividends</th>\n",
       "      <th>Stock Splits</th>\n",
       "      <th>Capital Gains</th>\n",
       "    </tr>\n",
       "    <tr>\n",
       "      <th>Date</th>\n",
       "      <th></th>\n",
       "      <th></th>\n",
       "      <th></th>\n",
       "      <th></th>\n",
       "      <th></th>\n",
       "      <th></th>\n",
       "      <th></th>\n",
       "      <th></th>\n",
       "    </tr>\n",
       "  </thead>\n",
       "  <tbody>\n",
       "    <tr>\n",
       "      <th>1993-01-29 00:00:00-05:00</th>\n",
       "      <td>25.047160</td>\n",
       "      <td>25.047160</td>\n",
       "      <td>24.922547</td>\n",
       "      <td>25.029358</td>\n",
       "      <td>1003200</td>\n",
       "      <td>0.0</td>\n",
       "      <td>0.0</td>\n",
       "      <td>0.0</td>\n",
       "    </tr>\n",
       "    <tr>\n",
       "      <th>1993-02-01 00:00:00-05:00</th>\n",
       "      <td>25.047171</td>\n",
       "      <td>25.207388</td>\n",
       "      <td>25.047171</td>\n",
       "      <td>25.207388</td>\n",
       "      <td>480500</td>\n",
       "      <td>0.0</td>\n",
       "      <td>0.0</td>\n",
       "      <td>0.0</td>\n",
       "    </tr>\n",
       "    <tr>\n",
       "      <th>1993-02-02 00:00:00-05:00</th>\n",
       "      <td>25.189573</td>\n",
       "      <td>25.278582</td>\n",
       "      <td>25.136168</td>\n",
       "      <td>25.260780</td>\n",
       "      <td>201300</td>\n",
       "      <td>0.0</td>\n",
       "      <td>0.0</td>\n",
       "      <td>0.0</td>\n",
       "    </tr>\n",
       "    <tr>\n",
       "      <th>1993-02-03 00:00:00-05:00</th>\n",
       "      <td>25.296403</td>\n",
       "      <td>25.545628</td>\n",
       "      <td>25.278601</td>\n",
       "      <td>25.527826</td>\n",
       "      <td>529400</td>\n",
       "      <td>0.0</td>\n",
       "      <td>0.0</td>\n",
       "      <td>0.0</td>\n",
       "    </tr>\n",
       "    <tr>\n",
       "      <th>1993-02-04 00:00:00-05:00</th>\n",
       "      <td>25.616830</td>\n",
       "      <td>25.688038</td>\n",
       "      <td>25.332001</td>\n",
       "      <td>25.634632</td>\n",
       "      <td>531500</td>\n",
       "      <td>0.0</td>\n",
       "      <td>0.0</td>\n",
       "      <td>0.0</td>\n",
       "    </tr>\n",
       "    <tr>\n",
       "      <th>...</th>\n",
       "      <td>...</td>\n",
       "      <td>...</td>\n",
       "      <td>...</td>\n",
       "      <td>...</td>\n",
       "      <td>...</td>\n",
       "      <td>...</td>\n",
       "      <td>...</td>\n",
       "      <td>...</td>\n",
       "    </tr>\n",
       "    <tr>\n",
       "      <th>2023-07-24 00:00:00-04:00</th>\n",
       "      <td>453.369995</td>\n",
       "      <td>455.040009</td>\n",
       "      <td>452.299988</td>\n",
       "      <td>454.200012</td>\n",
       "      <td>54023400</td>\n",
       "      <td>0.0</td>\n",
       "      <td>0.0</td>\n",
       "      <td>0.0</td>\n",
       "    </tr>\n",
       "    <tr>\n",
       "      <th>2023-07-25 00:00:00-04:00</th>\n",
       "      <td>453.920013</td>\n",
       "      <td>456.739990</td>\n",
       "      <td>453.869995</td>\n",
       "      <td>455.440002</td>\n",
       "      <td>55191200</td>\n",
       "      <td>0.0</td>\n",
       "      <td>0.0</td>\n",
       "      <td>0.0</td>\n",
       "    </tr>\n",
       "    <tr>\n",
       "      <th>2023-07-26 00:00:00-04:00</th>\n",
       "      <td>454.470001</td>\n",
       "      <td>456.989990</td>\n",
       "      <td>453.380005</td>\n",
       "      <td>455.510010</td>\n",
       "      <td>71052900</td>\n",
       "      <td>0.0</td>\n",
       "      <td>0.0</td>\n",
       "      <td>0.0</td>\n",
       "    </tr>\n",
       "    <tr>\n",
       "      <th>2023-07-27 00:00:00-04:00</th>\n",
       "      <td>459.019989</td>\n",
       "      <td>459.440002</td>\n",
       "      <td>451.549988</td>\n",
       "      <td>452.489990</td>\n",
       "      <td>92194400</td>\n",
       "      <td>0.0</td>\n",
       "      <td>0.0</td>\n",
       "      <td>0.0</td>\n",
       "    </tr>\n",
       "    <tr>\n",
       "      <th>2023-07-28 00:00:00-04:00</th>\n",
       "      <td>455.880005</td>\n",
       "      <td>457.779999</td>\n",
       "      <td>452.489990</td>\n",
       "      <td>456.920013</td>\n",
       "      <td>79949400</td>\n",
       "      <td>0.0</td>\n",
       "      <td>0.0</td>\n",
       "      <td>0.0</td>\n",
       "    </tr>\n",
       "  </tbody>\n",
       "</table>\n",
       "<p>7679 rows × 8 columns</p>\n",
       "</div>"
      ],
      "text/plain": [
       "                                 Open        High         Low       Close  \\\n",
       "Date                                                                        \n",
       "1993-01-29 00:00:00-05:00   25.047160   25.047160   24.922547   25.029358   \n",
       "1993-02-01 00:00:00-05:00   25.047171   25.207388   25.047171   25.207388   \n",
       "1993-02-02 00:00:00-05:00   25.189573   25.278582   25.136168   25.260780   \n",
       "1993-02-03 00:00:00-05:00   25.296403   25.545628   25.278601   25.527826   \n",
       "1993-02-04 00:00:00-05:00   25.616830   25.688038   25.332001   25.634632   \n",
       "...                               ...         ...         ...         ...   \n",
       "2023-07-24 00:00:00-04:00  453.369995  455.040009  452.299988  454.200012   \n",
       "2023-07-25 00:00:00-04:00  453.920013  456.739990  453.869995  455.440002   \n",
       "2023-07-26 00:00:00-04:00  454.470001  456.989990  453.380005  455.510010   \n",
       "2023-07-27 00:00:00-04:00  459.019989  459.440002  451.549988  452.489990   \n",
       "2023-07-28 00:00:00-04:00  455.880005  457.779999  452.489990  456.920013   \n",
       "\n",
       "                             Volume  Dividends  Stock Splits  Capital Gains  \n",
       "Date                                                                         \n",
       "1993-01-29 00:00:00-05:00   1003200        0.0           0.0            0.0  \n",
       "1993-02-01 00:00:00-05:00    480500        0.0           0.0            0.0  \n",
       "1993-02-02 00:00:00-05:00    201300        0.0           0.0            0.0  \n",
       "1993-02-03 00:00:00-05:00    529400        0.0           0.0            0.0  \n",
       "1993-02-04 00:00:00-05:00    531500        0.0           0.0            0.0  \n",
       "...                             ...        ...           ...            ...  \n",
       "2023-07-24 00:00:00-04:00  54023400        0.0           0.0            0.0  \n",
       "2023-07-25 00:00:00-04:00  55191200        0.0           0.0            0.0  \n",
       "2023-07-26 00:00:00-04:00  71052900        0.0           0.0            0.0  \n",
       "2023-07-27 00:00:00-04:00  92194400        0.0           0.0            0.0  \n",
       "2023-07-28 00:00:00-04:00  79949400        0.0           0.0            0.0  \n",
       "\n",
       "[7679 rows x 8 columns]"
      ]
     },
     "execution_count": 10,
     "metadata": {},
     "output_type": "execute_result"
    }
   ],
   "source": [
    "spy = spy.history(period=\"max\")\n",
    "spy"
   ]
  },
  {
   "cell_type": "code",
   "execution_count": 11,
   "metadata": {},
   "outputs": [],
   "source": [
    "del spy[\"Dividends\"]\n",
    "del spy[\"Stock Splits\"]\n",
    "del spy[\"Capital Gains\"]"
   ]
  },
  {
   "cell_type": "code",
   "execution_count": 12,
   "metadata": {},
   "outputs": [],
   "source": [
    "spy[\"Tomorrow\"] = spy[\"Close\"].shift(-1)"
   ]
  },
  {
   "cell_type": "code",
   "execution_count": 13,
   "metadata": {},
   "outputs": [],
   "source": [
    "spy[\"Target\"] = (spy[\"Tomorrow\"]>spy[\"Close\"]).astype(int)"
   ]
  },
  {
   "cell_type": "markdown",
   "metadata": {},
   "source": [
    "Ensemble Method: Random Forest is an ensemble learning method that combines the predictions of multiple decision trees. This aggregation of predictions can lead to more robust and accurate results compared to using a single decision tree.\n",
    "\n",
    "Reduced Overfitting: Random Forest reduces overfitting, a common issue when working with complex datasets. By averaging the predictions of multiple trees, it helps to mitigate the risk of the model memorizing noise in the training data and, thus, makes the model more generalizable to new data.\n",
    "\n",
    "Non-linear Relationships: Stock prices and market movements often exhibit non-linear relationships, making them challenging to model using linear methods. Random Forest can capture non-linear patterns effectively, making it suitable for complex financial data.\n",
    "\n",
    "Handles Large Feature Sets: In predicting stock prices, there are typically many features (e.g., technical indicators, fundamental data, sentiment analysis) to consider. Random Forest can handle large feature sets and identify important variables, which helps in feature selection and understanding the relevance of different predictors.\n",
    "\n",
    "Resilience to Outliers and Missing Data: Random Forest is relatively robust to outliers and can handle missing data without requiring imputation, which is an advantage when working with real-world financial datasets.\n",
    "\n",
    "Parallelization: Random Forest can be easily parallelized, enabling faster training on multi-core processors and distributed computing environments. This scalability is beneficial when working with large datasets.\n",
    "\n",
    "Model Interpretability: Though Random Forest is an ensemble of decision trees, it can still provide insights into feature importance, allowing analysts to understand which variables are most influential in the model's predictions."
   ]
  },
  {
   "cell_type": "code",
   "execution_count": 15,
   "metadata": {},
   "outputs": [
    {
     "data": {
      "text/plain": [
       "RandomForestClassifier(min_samples_split=100, random_state=1)"
      ]
     },
     "execution_count": 15,
     "metadata": {},
     "output_type": "execute_result"
    }
   ],
   "source": [
    "model = RandomForestClassifier(n_estimators=100, min_samples_split=100, random_state=1)\n",
    "\n",
    "train = spy.iloc[:-100]\n",
    "test = spy.iloc[-100:]\n",
    "\n",
    "pred = [\"Close\", \"Open\", \"Volume\", \"High\", \"Low\"]\n",
    "model.fit(train[pred],train[\"Target\"])"
   ]
  },
  {
   "cell_type": "code",
   "execution_count": 18,
   "metadata": {},
   "outputs": [],
   "source": [
    "preds = model.predict(test[pred])"
   ]
  },
  {
   "cell_type": "code",
   "execution_count": 19,
   "metadata": {},
   "outputs": [],
   "source": [
    "preds = pd.Series(preds, index=test.index)"
   ]
  },
  {
   "cell_type": "code",
   "execution_count": 20,
   "metadata": {},
   "outputs": [
    {
     "data": {
      "text/plain": [
       "0.5961538461538461"
      ]
     },
     "execution_count": 20,
     "metadata": {},
     "output_type": "execute_result"
    }
   ],
   "source": [
    "precision_score(test[\"Target\"],preds)"
   ]
  },
  {
   "cell_type": "code",
   "execution_count": 21,
   "metadata": {},
   "outputs": [
    {
     "data": {
      "text/plain": [
       "<AxesSubplot:xlabel='Date'>"
      ]
     },
     "execution_count": 21,
     "metadata": {},
     "output_type": "execute_result"
    },
    {
     "data": {
      "image/png": "[encoded data removed]",
      "text/plain": [
       "<Figure size 432x288 with 1 Axes>"
      ]
     },
     "metadata": {
      "needs_background": "light"
     },
     "output_type": "display_data"
    }
   ],
   "source": [
    "combined = pd.concat([test[\"Target\"],preds], axis=1)\n",
    "combined.plot()"
   ]
  },
  {
   "cell_type": "code",
   "execution_count": 26,
   "metadata": {},
   "outputs": [],
   "source": [
    "def predict(train,test,pred,model):\n",
    "    model.fit(train[pred],train[\"Target\"])\n",
    "    preds = model.predict(test[pred])\n",
    "    preds = pd.Series(preds,index=test.index,name=\"Predictions\")\n",
    "    combined = pd.concat([test[\"Target\"],preds],axis=1)\n",
    "    return combined"
   ]
  },
  {
   "cell_type": "code",
   "execution_count": 25,
   "metadata": {},
   "outputs": [],
   "source": [
    "def backtest(data, model, pred, start=2520, step=252):\n",
    "    all_preds = []\n",
    "\n",
    "    for i in range(start, data.shape[0], step):\n",
    "        train = data.iloc[0:i].copy()\n",
    "        test = data.iloc[i:(i+step)].copy()\n",
    "        preds = predict(train, test, pred, model)\n",
    "        all_preds.append(preds)\n",
    "    return pd.concat(all_preds)"
   ]
  },
  {
   "cell_type": "code",
   "execution_count": 27,
   "metadata": {},
   "outputs": [],
   "source": [
    "predictions = backtest(spy, model, pred)"
   ]
  },
  {
   "cell_type": "code",
   "execution_count": 28,
   "metadata": {},
   "outputs": [
    {
     "data": {
      "text/plain": [
       "0    2606\n",
       "1    2553\n",
       "Name: Predictions, dtype: int64"
      ]
     },
     "execution_count": 28,
     "metadata": {},
     "output_type": "execute_result"
    }
   ],
   "source": [
    "predictions[\"Predictions\"].value_counts()"
   ]
  },
  {
   "cell_type": "code",
   "execution_count": 29,
   "metadata": {},
   "outputs": [
    {
     "data": {
      "text/plain": [
       "0.5483744614179397"
      ]
     },
     "execution_count": 29,
     "metadata": {},
     "output_type": "execute_result"
    }
   ],
   "source": [
    "precision_score(predictions[\"Target\"],predictions[\"Predictions\"])"
   ]
  },
  {
   "cell_type": "code",
   "execution_count": 30,
   "metadata": {},
   "outputs": [
    {
     "data": {
      "text/plain": [
       "1    0.550107\n",
       "0    0.449893\n",
       "Name: Target, dtype: float64"
      ]
     },
     "execution_count": 30,
     "metadata": {},
     "output_type": "execute_result"
    }
   ],
   "source": [
    "predictions[\"Target\"].value_counts()/predictions.shape[0]"
   ]
  },
  {
   "cell_type": "code",
   "execution_count": 31,
   "metadata": {},
   "outputs": [],
   "source": [
    "horizons = [2,5,60,252,1008]\n",
    "new_pred = []\n",
    "\n",
    "for horizon in horizons:\n",
    "    roll_avg = spy.rolling(horizon).mean()\n",
    "\n",
    "    ratio_col = f\"Close_Ratio_{horizon}\"\n",
    "    spy[ratio_col] = spy[\"Close\"]/ roll_avg[\"Close\"]\n",
    "\n",
    "    trend_col = f\"Trend_{horizon}\"\n",
    "    spy[trend_col] = spy.shift(1).rolling(horizon).sum()[\"Target\"]\n",
    "\n",
    "    new_pred += [ratio_col,trend_col]"
   ]
  },
  {
   "cell_type": "code",
   "execution_count": 34,
   "metadata": {},
   "outputs": [
    {
     "data": {
      "text/html": [
       "<div>\n",
       "<style scoped>\n",
       "    .dataframe tbody tr th:only-of-type {\n",
       "        vertical-align: middle;\n",
       "    }\n",
       "\n",
       "    .dataframe tbody tr th {\n",
       "        vertical-align: top;\n",
       "    }\n",
       "\n",
       "    .dataframe thead th {\n",
       "        text-align: right;\n",
       "    }\n",
       "</style>\n",
       "<table border=\"1\" class=\"dataframe\">\n",
       "  <thead>\n",
       "    <tr style=\"text-align: right;\">\n",
       "      <th></th>\n",
       "      <th>Open</th>\n",
       "      <th>High</th>\n",
       "      <th>Low</th>\n",
       "      <th>Close</th>\n",
       "      <th>Volume</th>\n",
       "      <th>Tomorrow</th>\n",
       "      <th>Target</th>\n",
       "      <th>Close_Ratio_2</th>\n",
       "      <th>Trend_2</th>\n",
       "      <th>Close_Ratio_5</th>\n",
       "      <th>Trend_5</th>\n",
       "      <th>Close_Ratio_60</th>\n",
       "      <th>Trend_60</th>\n",
       "      <th>Close_Ratio_252</th>\n",
       "      <th>Trend_252</th>\n",
       "      <th>Close_Ratio_1008</th>\n",
       "      <th>Trend_1008</th>\n",
       "    </tr>\n",
       "    <tr>\n",
       "      <th>Date</th>\n",
       "      <th></th>\n",
       "      <th></th>\n",
       "      <th></th>\n",
       "      <th></th>\n",
       "      <th></th>\n",
       "      <th></th>\n",
       "      <th></th>\n",
       "      <th></th>\n",
       "      <th></th>\n",
       "      <th></th>\n",
       "      <th></th>\n",
       "      <th></th>\n",
       "      <th></th>\n",
       "      <th></th>\n",
       "      <th></th>\n",
       "      <th></th>\n",
       "      <th></th>\n",
       "    </tr>\n",
       "  </thead>\n",
       "  <tbody>\n",
       "    <tr>\n",
       "      <th>1997-01-24 00:00:00-05:00</th>\n",
       "      <td>48.717262</td>\n",
       "      <td>48.736811</td>\n",
       "      <td>48.013481</td>\n",
       "      <td>48.013481</td>\n",
       "      <td>2176000</td>\n",
       "      <td>47.876617</td>\n",
       "      <td>0</td>\n",
       "      <td>0.993528</td>\n",
       "      <td>0.0</td>\n",
       "      <td>0.985792</td>\n",
       "      <td>3.0</td>\n",
       "      <td>1.030367</td>\n",
       "      <td>37.0</td>\n",
       "      <td>1.135739</td>\n",
       "      <td>135.0</td>\n",
       "      <td>1.484298</td>\n",
       "      <td>532.0</td>\n",
       "    </tr>\n",
       "    <tr>\n",
       "      <th>1997-01-27 00:00:00-05:00</th>\n",
       "      <td>48.091661</td>\n",
       "      <td>48.316480</td>\n",
       "      <td>47.778870</td>\n",
       "      <td>47.876617</td>\n",
       "      <td>2108500</td>\n",
       "      <td>48.013481</td>\n",
       "      <td>1</td>\n",
       "      <td>0.998573</td>\n",
       "      <td>0.0</td>\n",
       "      <td>0.985830</td>\n",
       "      <td>2.0</td>\n",
       "      <td>1.025892</td>\n",
       "      <td>37.0</td>\n",
       "      <td>1.131487</td>\n",
       "      <td>134.0</td>\n",
       "      <td>1.479038</td>\n",
       "      <td>531.0</td>\n",
       "    </tr>\n",
       "    <tr>\n",
       "      <th>1997-01-28 00:00:00-05:00</th>\n",
       "      <td>48.560866</td>\n",
       "      <td>48.697712</td>\n",
       "      <td>47.544294</td>\n",
       "      <td>48.013481</td>\n",
       "      <td>4376000</td>\n",
       "      <td>48.482651</td>\n",
       "      <td>1</td>\n",
       "      <td>1.001427</td>\n",
       "      <td>1.0</td>\n",
       "      <td>0.992564</td>\n",
       "      <td>2.0</td>\n",
       "      <td>1.027389</td>\n",
       "      <td>37.0</td>\n",
       "      <td>1.133726</td>\n",
       "      <td>134.0</td>\n",
       "      <td>1.482233</td>\n",
       "      <td>531.0</td>\n",
       "    </tr>\n",
       "    <tr>\n",
       "      <th>1997-01-29 00:00:00-05:00</th>\n",
       "      <td>48.091662</td>\n",
       "      <td>48.482651</td>\n",
       "      <td>47.915717</td>\n",
       "      <td>48.482651</td>\n",
       "      <td>1122700</td>\n",
       "      <td>49.108234</td>\n",
       "      <td>1</td>\n",
       "      <td>1.004862</td>\n",
       "      <td>2.0</td>\n",
       "      <td>1.005759</td>\n",
       "      <td>2.0</td>\n",
       "      <td>1.035753</td>\n",
       "      <td>38.0</td>\n",
       "      <td>1.143794</td>\n",
       "      <td>134.0</td>\n",
       "      <td>1.495665</td>\n",
       "      <td>531.0</td>\n",
       "    </tr>\n",
       "    <tr>\n",
       "      <th>1997-01-30 00:00:00-05:00</th>\n",
       "      <td>48.717245</td>\n",
       "      <td>49.127784</td>\n",
       "      <td>48.424003</td>\n",
       "      <td>49.108234</td>\n",
       "      <td>2126300</td>\n",
       "      <td>49.049591</td>\n",
       "      <td>0</td>\n",
       "      <td>1.006410</td>\n",
       "      <td>2.0</td>\n",
       "      <td>1.016757</td>\n",
       "      <td>3.0</td>\n",
       "      <td>1.047301</td>\n",
       "      <td>38.0</td>\n",
       "      <td>1.157478</td>\n",
       "      <td>134.0</td>\n",
       "      <td>1.513877</td>\n",
       "      <td>531.0</td>\n",
       "    </tr>\n",
       "    <tr>\n",
       "      <th>...</th>\n",
       "      <td>...</td>\n",
       "      <td>...</td>\n",
       "      <td>...</td>\n",
       "      <td>...</td>\n",
       "      <td>...</td>\n",
       "      <td>...</td>\n",
       "      <td>...</td>\n",
       "      <td>...</td>\n",
       "      <td>...</td>\n",
       "      <td>...</td>\n",
       "      <td>...</td>\n",
       "      <td>...</td>\n",
       "      <td>...</td>\n",
       "      <td>...</td>\n",
       "      <td>...</td>\n",
       "      <td>...</td>\n",
       "      <td>...</td>\n",
       "    </tr>\n",
       "    <tr>\n",
       "      <th>2023-07-21 00:00:00-04:00</th>\n",
       "      <td>453.959991</td>\n",
       "      <td>454.170013</td>\n",
       "      <td>452.170013</td>\n",
       "      <td>452.179993</td>\n",
       "      <td>71245400</td>\n",
       "      <td>454.200012</td>\n",
       "      <td>1</td>\n",
       "      <td>1.000000</td>\n",
       "      <td>0.0</td>\n",
       "      <td>0.998371</td>\n",
       "      <td>3.0</td>\n",
       "      <td>1.057881</td>\n",
       "      <td>34.0</td>\n",
       "      <td>1.130339</td>\n",
       "      <td>124.0</td>\n",
       "      <td>1.226334</td>\n",
       "      <td>545.0</td>\n",
       "    </tr>\n",
       "    <tr>\n",
       "      <th>2023-07-24 00:00:00-04:00</th>\n",
       "      <td>453.369995</td>\n",
       "      <td>455.040009</td>\n",
       "      <td>452.299988</td>\n",
       "      <td>454.200012</td>\n",
       "      <td>54023400</td>\n",
       "      <td>455.440002</td>\n",
       "      <td>1</td>\n",
       "      <td>1.002229</td>\n",
       "      <td>1.0</td>\n",
       "      <td>1.001345</td>\n",
       "      <td>3.0</td>\n",
       "      <td>1.060484</td>\n",
       "      <td>35.0</td>\n",
       "      <td>1.134693</td>\n",
       "      <td>124.0</td>\n",
       "      <td>1.231232</td>\n",
       "      <td>545.0</td>\n",
       "    </tr>\n",
       "    <tr>\n",
       "      <th>2023-07-25 00:00:00-04:00</th>\n",
       "      <td>453.920013</td>\n",
       "      <td>456.739990</td>\n",
       "      <td>453.869995</td>\n",
       "      <td>455.440002</td>\n",
       "      <td>55191200</td>\n",
       "      <td>455.510010</td>\n",
       "      <td>1</td>\n",
       "      <td>1.001363</td>\n",
       "      <td>2.0</td>\n",
       "      <td>1.003525</td>\n",
       "      <td>3.0</td>\n",
       "      <td>1.061539</td>\n",
       "      <td>35.0</td>\n",
       "      <td>1.137039</td>\n",
       "      <td>125.0</td>\n",
       "      <td>1.234015</td>\n",
       "      <td>545.0</td>\n",
       "    </tr>\n",
       "    <tr>\n",
       "      <th>2023-07-26 00:00:00-04:00</th>\n",
       "      <td>454.470001</td>\n",
       "      <td>456.989990</td>\n",
       "      <td>453.380005</td>\n",
       "      <td>455.510010</td>\n",
       "      <td>71052900</td>\n",
       "      <td>452.489990</td>\n",
       "      <td>0</td>\n",
       "      <td>1.000077</td>\n",
       "      <td>2.0</td>\n",
       "      <td>1.003543</td>\n",
       "      <td>3.0</td>\n",
       "      <td>1.060009</td>\n",
       "      <td>35.0</td>\n",
       "      <td>1.136467</td>\n",
       "      <td>125.0</td>\n",
       "      <td>1.233631</td>\n",
       "      <td>545.0</td>\n",
       "    </tr>\n",
       "    <tr>\n",
       "      <th>2023-07-27 00:00:00-04:00</th>\n",
       "      <td>459.019989</td>\n",
       "      <td>459.440002</td>\n",
       "      <td>451.549988</td>\n",
       "      <td>452.489990</td>\n",
       "      <td>92194400</td>\n",
       "      <td>456.920013</td>\n",
       "      <td>1</td>\n",
       "      <td>0.996674</td>\n",
       "      <td>1.0</td>\n",
       "      <td>0.996753</td>\n",
       "      <td>3.0</td>\n",
       "      <td>1.051410</td>\n",
       "      <td>35.0</td>\n",
       "      <td>1.128174</td>\n",
       "      <td>125.0</td>\n",
       "      <td>1.224889</td>\n",
       "      <td>545.0</td>\n",
       "    </tr>\n",
       "  </tbody>\n",
       "</table>\n",
       "<p>6670 rows × 17 columns</p>\n",
       "</div>"
      ],
      "text/plain": [
       "                                 Open        High         Low       Close  \\\n",
       "Date                                                                        \n",
       "1997-01-24 00:00:00-05:00   48.717262   48.736811   48.013481   48.013481   \n",
       "1997-01-27 00:00:00-05:00   48.091661   48.316480   47.778870   47.876617   \n",
       "1997-01-28 00:00:00-05:00   48.560866   48.697712   47.544294   48.013481   \n",
       "1997-01-29 00:00:00-05:00   48.091662   48.482651   47.915717   48.482651   \n",
       "1997-01-30 00:00:00-05:00   48.717245   49.127784   48.424003   49.108234   \n",
       "...                               ...         ...         ...         ...   \n",
       "2023-07-21 00:00:00-04:00  453.959991  454.170013  452.170013  452.179993   \n",
       "2023-07-24 00:00:00-04:00  453.369995  455.040009  452.299988  454.200012   \n",
       "2023-07-25 00:00:00-04:00  453.920013  456.739990  453.869995  455.440002   \n",
       "2023-07-26 00:00:00-04:00  454.470001  456.989990  453.380005  455.510010   \n",
       "2023-07-27 00:00:00-04:00  459.019989  459.440002  451.549988  452.489990   \n",
       "\n",
       "                             Volume    Tomorrow  Target  Close_Ratio_2  \\\n",
       "Date                                                                     \n",
       "1997-01-24 00:00:00-05:00   2176000   47.876617       0       0.993528   \n",
       "1997-01-27 00:00:00-05:00   2108500   48.013481       1       0.998573   \n",
       "1997-01-28 00:00:00-05:00   4376000   48.482651       1       1.001427   \n",
       "1997-01-29 00:00:00-05:00   1122700   49.108234       1       1.004862   \n",
       "1997-01-30 00:00:00-05:00   2126300   49.049591       0       1.006410   \n",
       "...                             ...         ...     ...            ...   \n",
       "2023-07-21 00:00:00-04:00  71245400  454.200012       1       1.000000   \n",
       "2023-07-24 00:00:00-04:00  54023400  455.440002       1       1.002229   \n",
       "2023-07-25 00:00:00-04:00  55191200  455.510010       1       1.001363   \n",
       "2023-07-26 00:00:00-04:00  71052900  452.489990       0       1.000077   \n",
       "2023-07-27 00:00:00-04:00  92194400  456.920013       1       0.996674   \n",
       "\n",
       "                           Trend_2  Close_Ratio_5  Trend_5  Close_Ratio_60  \\\n",
       "Date                                                                         \n",
       "1997-01-24 00:00:00-05:00      0.0       0.985792      3.0        1.030367   \n",
       "1997-01-27 00:00:00-05:00      0.0       0.985830      2.0        1.025892   \n",
       "1997-01-28 00:00:00-05:00      1.0       0.992564      2.0        1.027389   \n",
       "1997-01-29 00:00:00-05:00      2.0       1.005759      2.0        1.035753   \n",
       "1997-01-30 00:00:00-05:00      2.0       1.016757      3.0        1.047301   \n",
       "...                            ...            ...      ...             ...   \n",
       "2023-07-21 00:00:00-04:00      0.0       0.998371      3.0        1.057881   \n",
       "2023-07-24 00:00:00-04:00      1.0       1.001345      3.0        1.060484   \n",
       "2023-07-25 00:00:00-04:00      2.0       1.003525      3.0        1.061539   \n",
       "2023-07-26 00:00:00-04:00      2.0       1.003543      3.0        1.060009   \n",
       "2023-07-27 00:00:00-04:00      1.0       0.996753      3.0        1.051410   \n",
       "\n",
       "                           Trend_60  Close_Ratio_252  Trend_252  \\\n",
       "Date                                                              \n",
       "1997-01-24 00:00:00-05:00      37.0         1.135739      135.0   \n",
       "1997-01-27 00:00:00-05:00      37.0         1.131487      134.0   \n",
       "1997-01-28 00:00:00-05:00      37.0         1.133726      134.0   \n",
       "1997-01-29 00:00:00-05:00      38.0         1.143794      134.0   \n",
       "1997-01-30 00:00:00-05:00      38.0         1.157478      134.0   \n",
       "...                             ...              ...        ...   \n",
       "2023-07-21 00:00:00-04:00      34.0         1.130339      124.0   \n",
       "2023-07-24 00:00:00-04:00      35.0         1.134693      124.0   \n",
       "2023-07-25 00:00:00-04:00      35.0         1.137039      125.0   \n",
       "2023-07-26 00:00:00-04:00      35.0         1.136467      125.0   \n",
       "2023-07-27 00:00:00-04:00      35.0         1.128174      125.0   \n",
       "\n",
       "                           Close_Ratio_1008  Trend_1008  \n",
       "Date                                                     \n",
       "1997-01-24 00:00:00-05:00          1.484298       532.0  \n",
       "1997-01-27 00:00:00-05:00          1.479038       531.0  \n",
       "1997-01-28 00:00:00-05:00          1.482233       531.0  \n",
       "1997-01-29 00:00:00-05:00          1.495665       531.0  \n",
       "1997-01-30 00:00:00-05:00          1.513877       531.0  \n",
       "...                                     ...         ...  \n",
       "2023-07-21 00:00:00-04:00          1.226334       545.0  \n",
       "2023-07-24 00:00:00-04:00          1.231232       545.0  \n",
       "2023-07-25 00:00:00-04:00          1.234015       545.0  \n",
       "2023-07-26 00:00:00-04:00          1.233631       545.0  \n",
       "2023-07-27 00:00:00-04:00          1.224889       545.0  \n",
       "\n",
       "[6670 rows x 17 columns]"
      ]
     },
     "execution_count": 34,
     "metadata": {},
     "output_type": "execute_result"
    }
   ],
   "source": [
    "spy = spy.dropna()\n",
    "spy"
   ]
  },
  {
   "cell_type": "code",
   "execution_count": 35,
   "metadata": {},
   "outputs": [],
   "source": [
    "model = RandomForestClassifier(n_estimators=200, min_samples_split=50, random_state=1)"
   ]
  },
  {
   "cell_type": "code",
   "execution_count": 36,
   "metadata": {},
   "outputs": [],
   "source": [
    "def predict(train,test,pred,model):\n",
    "    model.fit(train[pred],train[\"Target\"])\n",
    "    preds = model.predict_proba(test[pred])[:,1]\n",
    "    preds[preds>= .6] = 1\n",
    "    preds[preds < .6] = 0\n",
    "    preds = pd.Series(preds,index=test.index,name=\"Predictions\")\n",
    "    combined = pd.concat([test[\"Target\"],preds],axis=1)\n",
    "    return combined"
   ]
  },
  {
   "cell_type": "code",
   "execution_count": 37,
   "metadata": {},
   "outputs": [],
   "source": [
    "predictions = backtest(spy, model, new_pred)"
   ]
  },
  {
   "cell_type": "code",
   "execution_count": 38,
   "metadata": {},
   "outputs": [
    {
     "data": {
      "text/plain": [
       "0.0    3581\n",
       "1.0     569\n",
       "Name: Predictions, dtype: int64"
      ]
     },
     "execution_count": 38,
     "metadata": {},
     "output_type": "execute_result"
    }
   ],
   "source": [
    "predictions[\"Predictions\"].value_counts()"
   ]
  },
  {
   "cell_type": "code",
   "execution_count": 39,
   "metadata": {},
   "outputs": [
    {
     "data": {
      "text/plain": [
       "0.5430579964850615"
      ]
     },
     "execution_count": 39,
     "metadata": {},
     "output_type": "execute_result"
    }
   ],
   "source": [
    "precision_score(predictions[\"Target\"],predictions[\"Predictions\"])"
   ]
  }
 ],
 "metadata": {
  "kernelspec": {
   "display_name": "base",
   "language": "python",
   "name": "python3"
  },
  "language_info": {
   "codemirror_mode": {
    "name": "ipython",
    "version": 3
   },
   "file_extension": ".py",
   "mimetype": "text/x-python",
   "name": "python",
   "nbconvert_exporter": "python",
   "pygments_lexer": "ipython3",
   "version": "3.9.12"
  },
  "orig_nbformat": 4
 },
 "nbformat": 4,
 "nbformat_minor": 2
}
