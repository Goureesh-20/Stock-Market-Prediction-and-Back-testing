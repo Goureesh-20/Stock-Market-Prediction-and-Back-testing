{
 "cells": [
  {
   "cell_type": "code",
   "execution_count": 1,
   "metadata": {},
   "outputs": [],
   "source": [
    "import matplotlib.pyplot as plt\n",
    "import pandas as pd\n",
    "from sklearn.metrics import precision_score\n",
    "import yfinance as yf\n",
    "from sklearn.ensemble import RandomForestClassifier"
   ]
  },
  {
   "cell_type": "code",
   "execution_count": 8,
   "metadata": {},
   "outputs": [],
   "source": [
    "spy = yf.Ticker(\"^GSPC\")"
   ]
  },
  {
   "cell_type": "code",
   "execution_count": 9,
   "metadata": {},
   "outputs": [
    {
     "data": {
      "text/html": [
       "<div>\n",
       "<style scoped>\n",
       "    .dataframe tbody tr th:only-of-type {\n",
       "        vertical-align: middle;\n",
       "    }\n",
       "\n",
       "    .dataframe tbody tr th {\n",
       "        vertical-align: top;\n",
       "    }\n",
       "\n",
       "    .dataframe thead th {\n",
       "        text-align: right;\n",
       "    }\n",
       "</style>\n",
       "<table border=\"1\" class=\"dataframe\">\n",
       "  <thead>\n",
       "    <tr style=\"text-align: right;\">\n",
       "      <th></th>\n",
       "      <th>Open</th>\n",
       "      <th>High</th>\n",
       "      <th>Low</th>\n",
       "      <th>Close</th>\n",
       "      <th>Volume</th>\n",
       "      <th>Dividends</th>\n",
       "      <th>Stock Splits</th>\n",
       "    </tr>\n",
       "    <tr>\n",
       "      <th>Date</th>\n",
       "      <th></th>\n",
       "      <th></th>\n",
       "      <th></th>\n",
       "      <th></th>\n",
       "      <th></th>\n",
       "      <th></th>\n",
       "      <th></th>\n",
       "    </tr>\n",
       "  </thead>\n",
       "  <tbody>\n",
       "    <tr>\n",
       "      <th>1927-12-30 00:00:00-05:00</th>\n",
       "      <td>17.660000</td>\n",
       "      <td>17.660000</td>\n",
       "      <td>17.660000</td>\n",
       "      <td>17.660000</td>\n",
       "      <td>0</td>\n",
       "      <td>0.0</td>\n",
       "      <td>0.0</td>\n",
       "    </tr>\n",
       "    <tr>\n",
       "      <th>1928-01-03 00:00:00-05:00</th>\n",
       "      <td>17.760000</td>\n",
       "      <td>17.760000</td>\n",
       "      <td>17.760000</td>\n",
       "      <td>17.760000</td>\n",
       "      <td>0</td>\n",
       "      <td>0.0</td>\n",
       "      <td>0.0</td>\n",
       "    </tr>\n",
       "    <tr>\n",
       "      <th>1928-01-04 00:00:00-05:00</th>\n",
       "      <td>17.719999</td>\n",
       "      <td>17.719999</td>\n",
       "      <td>17.719999</td>\n",
       "      <td>17.719999</td>\n",
       "      <td>0</td>\n",
       "      <td>0.0</td>\n",
       "      <td>0.0</td>\n",
       "    </tr>\n",
       "    <tr>\n",
       "      <th>1928-01-05 00:00:00-05:00</th>\n",
       "      <td>17.549999</td>\n",
       "      <td>17.549999</td>\n",
       "      <td>17.549999</td>\n",
       "      <td>17.549999</td>\n",
       "      <td>0</td>\n",
       "      <td>0.0</td>\n",
       "      <td>0.0</td>\n",
       "    </tr>\n",
       "    <tr>\n",
       "      <th>1928-01-06 00:00:00-05:00</th>\n",
       "      <td>17.660000</td>\n",
       "      <td>17.660000</td>\n",
       "      <td>17.660000</td>\n",
       "      <td>17.660000</td>\n",
       "      <td>0</td>\n",
       "      <td>0.0</td>\n",
       "      <td>0.0</td>\n",
       "    </tr>\n",
       "    <tr>\n",
       "      <th>...</th>\n",
       "      <td>...</td>\n",
       "      <td>...</td>\n",
       "      <td>...</td>\n",
       "      <td>...</td>\n",
       "      <td>...</td>\n",
       "      <td>...</td>\n",
       "      <td>...</td>\n",
       "    </tr>\n",
       "    <tr>\n",
       "      <th>2023-07-24 00:00:00-04:00</th>\n",
       "      <td>4543.390137</td>\n",
       "      <td>4563.410156</td>\n",
       "      <td>4541.290039</td>\n",
       "      <td>4554.640137</td>\n",
       "      <td>3856250000</td>\n",
       "      <td>0.0</td>\n",
       "      <td>0.0</td>\n",
       "    </tr>\n",
       "    <tr>\n",
       "      <th>2023-07-25 00:00:00-04:00</th>\n",
       "      <td>4555.189941</td>\n",
       "      <td>4580.620117</td>\n",
       "      <td>4552.419922</td>\n",
       "      <td>4567.459961</td>\n",
       "      <td>3812470000</td>\n",
       "      <td>0.0</td>\n",
       "      <td>0.0</td>\n",
       "    </tr>\n",
       "    <tr>\n",
       "      <th>2023-07-26 00:00:00-04:00</th>\n",
       "      <td>4558.959961</td>\n",
       "      <td>4582.470215</td>\n",
       "      <td>4547.580078</td>\n",
       "      <td>4566.750000</td>\n",
       "      <td>3990290000</td>\n",
       "      <td>0.0</td>\n",
       "      <td>0.0</td>\n",
       "    </tr>\n",
       "    <tr>\n",
       "      <th>2023-07-27 00:00:00-04:00</th>\n",
       "      <td>4598.259766</td>\n",
       "      <td>4607.069824</td>\n",
       "      <td>4528.560059</td>\n",
       "      <td>4537.410156</td>\n",
       "      <td>4553210000</td>\n",
       "      <td>0.0</td>\n",
       "      <td>0.0</td>\n",
       "    </tr>\n",
       "    <tr>\n",
       "      <th>2023-07-28 00:00:00-04:00</th>\n",
       "      <td>4565.750000</td>\n",
       "      <td>4590.160156</td>\n",
       "      <td>4564.009766</td>\n",
       "      <td>4582.229980</td>\n",
       "      <td>3981010000</td>\n",
       "      <td>0.0</td>\n",
       "      <td>0.0</td>\n",
       "    </tr>\n",
       "  </tbody>\n",
       "</table>\n",
       "<p>24008 rows × 7 columns</p>\n",
       "</div>"
      ],
      "text/plain": [
       "                                  Open         High          Low        Close  \\\n",
       "Date                                                                            \n",
       "1927-12-30 00:00:00-05:00    17.660000    17.660000    17.660000    17.660000   \n",
       "1928-01-03 00:00:00-05:00    17.760000    17.760000    17.760000    17.760000   \n",
       "1928-01-04 00:00:00-05:00    17.719999    17.719999    17.719999    17.719999   \n",
       "1928-01-05 00:00:00-05:00    17.549999    17.549999    17.549999    17.549999   \n",
       "1928-01-06 00:00:00-05:00    17.660000    17.660000    17.660000    17.660000   \n",
       "...                                ...          ...          ...          ...   \n",
       "2023-07-24 00:00:00-04:00  4543.390137  4563.410156  4541.290039  4554.640137   \n",
       "2023-07-25 00:00:00-04:00  4555.189941  4580.620117  4552.419922  4567.459961   \n",
       "2023-07-26 00:00:00-04:00  4558.959961  4582.470215  4547.580078  4566.750000   \n",
       "2023-07-27 00:00:00-04:00  4598.259766  4607.069824  4528.560059  4537.410156   \n",
       "2023-07-28 00:00:00-04:00  4565.750000  4590.160156  4564.009766  4582.229980   \n",
       "\n",
       "                               Volume  Dividends  Stock Splits  \n",
       "Date                                                            \n",
       "1927-12-30 00:00:00-05:00           0        0.0           0.0  \n",
       "1928-01-03 00:00:00-05:00           0        0.0           0.0  \n",
       "1928-01-04 00:00:00-05:00           0        0.0           0.0  \n",
       "1928-01-05 00:00:00-05:00           0        0.0           0.0  \n",
       "1928-01-06 00:00:00-05:00           0        0.0           0.0  \n",
       "...                               ...        ...           ...  \n",
       "2023-07-24 00:00:00-04:00  3856250000        0.0           0.0  \n",
       "2023-07-25 00:00:00-04:00  3812470000        0.0           0.0  \n",
       "2023-07-26 00:00:00-04:00  3990290000        0.0           0.0  \n",
       "2023-07-27 00:00:00-04:00  4553210000        0.0           0.0  \n",
       "2023-07-28 00:00:00-04:00  3981010000        0.0           0.0  \n",
       "\n",
       "[24008 rows x 7 columns]"
      ]
     },
     "execution_count": 9,
     "metadata": {},
     "output_type": "execute_result"
    }
   ],
   "source": [
    "spy = spy.history(period=\"max\")\n",
    "spy"
   ]
  },
  {
   "cell_type": "code",
   "execution_count": 10,
   "metadata": {},
   "outputs": [],
   "source": [
    "del spy[\"Dividends\"]\n",
    "del spy[\"Stock Splits\"]\n",
    "#del spy[\"Capital Gains\"]\n",
    "spy = spy.loc[\"1990-01-01\":].copy()"
   ]
  },
  {
   "cell_type": "code",
   "execution_count": 11,
   "metadata": {},
   "outputs": [],
   "source": [
    "spy[\"Tomorrow\"] = spy[\"Close\"].shift(-1)"
   ]
  },
  {
   "cell_type": "code",
   "execution_count": 12,
   "metadata": {},
   "outputs": [],
   "source": [
    "spy[\"Target\"] = (spy[\"Tomorrow\"]>spy[\"Close\"]).astype(int)"
   ]
  },
  {
   "cell_type": "markdown",
   "metadata": {},
   "source": [
    "Ensemble Method: Random Forest is an ensemble learning method that combines the predictions of multiple decision trees. This aggregation of predictions can lead to more robust and accurate results compared to using a single decision tree.\n",
    "\n",
    "Reduced Overfitting: Random Forest reduces overfitting, a common issue when working with complex datasets. By averaging the predictions of multiple trees, it helps to mitigate the risk of the model memorizing noise in the training data and, thus, makes the model more generalizable to new data.\n",
    "\n",
    "Non-linear Relationships: Stock prices and market movements often exhibit non-linear relationships, making them challenging to model using linear methods. Random Forest can capture non-linear patterns effectively, making it suitable for complex financial data.\n",
    "\n",
    "Handles Large Feature Sets: In predicting stock prices, there are typically many features (e.g., technical indicators, fundamental data, sentiment analysis) to consider. Random Forest can handle large feature sets and identify important variables, which helps in feature selection and understanding the relevance of different predictors.\n",
    "\n",
    "Resilience to Outliers and Missing Data: Random Forest is relatively robust to outliers and can handle missing data without requiring imputation, which is an advantage when working with real-world financial datasets.\n",
    "\n",
    "Parallelization: Random Forest can be easily parallelized, enabling faster training on multi-core processors and distributed computing environments. This scalability is beneficial when working with large datasets.\n",
    "\n",
    "Model Interpretability: Though Random Forest is an ensemble of decision trees, it can still provide insights into feature importance, allowing analysts to understand which variables are most influential in the model's predictions."
   ]
  },
  {
   "cell_type": "code",
   "execution_count": 13,
   "metadata": {},
   "outputs": [
    {
     "data": {
      "text/plain": [
       "RandomForestClassifier(min_samples_split=100, random_state=1)"
      ]
     },
     "execution_count": 13,
     "metadata": {},
     "output_type": "execute_result"
    }
   ],
   "source": [
    "model = RandomForestClassifier(n_estimators=100, min_samples_split=100, random_state=1)\n",
    "\n",
    "train = spy.iloc[:-100]\n",
    "test = spy.iloc[-100:]\n",
    "\n",
    "pred = [\"Close\", \"Open\", \"Volume\", \"High\", \"Low\"]\n",
    "model.fit(train[pred],train[\"Target\"])"
   ]
  },
  {
   "cell_type": "code",
   "execution_count": 14,
   "metadata": {},
   "outputs": [],
   "source": [
    "preds = model.predict(test[pred])"
   ]
  },
  {
   "cell_type": "code",
   "execution_count": 15,
   "metadata": {},
   "outputs": [],
   "source": [
    "preds = pd.Series(preds, index=test.index)"
   ]
  },
  {
   "cell_type": "code",
   "execution_count": 16,
   "metadata": {},
   "outputs": [
    {
     "data": {
      "text/plain": [
       "0.6274509803921569"
      ]
     },
     "execution_count": 16,
     "metadata": {},
     "output_type": "execute_result"
    }
   ],
   "source": [
    "precision_score(test[\"Target\"],preds)"
   ]
  },
  {
   "cell_type": "code",
   "execution_count": 17,
   "metadata": {},
   "outputs": [
    {
     "data": {
      "text/plain": [
       "<AxesSubplot:xlabel='Date'>"
      ]
     },
     "execution_count": 17,
     "metadata": {},
     "output_type": "execute_result"
    },
    {
     "data": {
      "image/png": "[encoded data removed]",
      "text/plain": [
       "<Figure size 432x288 with 1 Axes>"
      ]
     },
     "metadata": {
      "needs_background": "light"
     },
     "output_type": "display_data"
    }
   ],
   "source": [
    "combined = pd.concat([test[\"Target\"],preds], axis=1)\n",
    "combined.plot()"
   ]
  },
  {
   "cell_type": "code",
   "execution_count": 18,
   "metadata": {},
   "outputs": [],
   "source": [
    "def predict(train,test,pred,model):\n",
    "    model.fit(train[pred],train[\"Target\"])\n",
    "    preds = model.predict(test[pred])\n",
    "    preds = pd.Series(preds,index=test.index,name=\"Predictions\")\n",
    "    combined = pd.concat([test[\"Target\"],preds],axis=1)\n",
    "    return combined"
   ]
  },
  {
   "cell_type": "code",
   "execution_count": 19,
   "metadata": {},
   "outputs": [],
   "source": [
    "def backtest(data, model, pred, start=2520, step=252):\n",
    "    all_preds = []\n",
    "\n",
    "    for i in range(start, data.shape[0], step):\n",
    "        train = data.iloc[0:i].copy()\n",
    "        test = data.iloc[i:(i+step)].copy()\n",
    "        preds = predict(train, test, pred, model)\n",
    "        all_preds.append(preds)\n",
    "    return pd.concat(all_preds)"
   ]
  },
  {
   "cell_type": "code",
   "execution_count": 20,
   "metadata": {},
   "outputs": [],
   "source": [
    "predictions = backtest(spy, model, pred)"
   ]
  },
  {
   "cell_type": "code",
   "execution_count": 21,
   "metadata": {},
   "outputs": [
    {
     "data": {
      "text/plain": [
       "0    3127\n",
       "1    2811\n",
       "Name: Predictions, dtype: int64"
      ]
     },
     "execution_count": 21,
     "metadata": {},
     "output_type": "execute_result"
    }
   ],
   "source": [
    "predictions[\"Predictions\"].value_counts()"
   ]
  },
  {
   "cell_type": "code",
   "execution_count": 22,
   "metadata": {},
   "outputs": [
    {
     "data": {
      "text/plain": [
       "0.5272145144076841"
      ]
     },
     "execution_count": 22,
     "metadata": {},
     "output_type": "execute_result"
    }
   ],
   "source": [
    "precision_score(predictions[\"Target\"],predictions[\"Predictions\"])"
   ]
  },
  {
   "cell_type": "code",
   "execution_count": 23,
   "metadata": {},
   "outputs": [
    {
     "data": {
      "text/plain": [
       "1    0.534355\n",
       "0    0.465645\n",
       "Name: Target, dtype: float64"
      ]
     },
     "execution_count": 23,
     "metadata": {},
     "output_type": "execute_result"
    }
   ],
   "source": [
    "predictions[\"Target\"].value_counts()/predictions.shape[0]"
   ]
  },
  {
   "cell_type": "code",
   "execution_count": 24,
   "metadata": {},
   "outputs": [],
   "source": [
    "horizons = [2,5,60,252,1008]\n",
    "new_pred = []\n",
    "\n",
    "for horizon in horizons:\n",
    "    roll_avg = spy.rolling(horizon).mean()\n",
    "\n",
    "    ratio_col = f\"Close_Ratio_{horizon}\"\n",
    "    spy[ratio_col] = spy[\"Close\"]/ roll_avg[\"Close\"]\n",
    "\n",
    "    trend_col = f\"Trend_{horizon}\"\n",
    "    spy[trend_col] = spy.shift(1).rolling(horizon).sum()[\"Target\"]\n",
    "\n",
    "    new_pred += [ratio_col,trend_col]"
   ]
  },
  {
   "cell_type": "code",
   "execution_count": 25,
   "metadata": {},
   "outputs": [
    {
     "data": {
      "text/html": [
       "<div>\n",
       "<style scoped>\n",
       "    .dataframe tbody tr th:only-of-type {\n",
       "        vertical-align: middle;\n",
       "    }\n",
       "\n",
       "    .dataframe tbody tr th {\n",
       "        vertical-align: top;\n",
       "    }\n",
       "\n",
       "    .dataframe thead th {\n",
       "        text-align: right;\n",
       "    }\n",
       "</style>\n",
       "<table border=\"1\" class=\"dataframe\">\n",
       "  <thead>\n",
       "    <tr style=\"text-align: right;\">\n",
       "      <th></th>\n",
       "      <th>Open</th>\n",
       "      <th>High</th>\n",
       "      <th>Low</th>\n",
       "      <th>Close</th>\n",
       "      <th>Volume</th>\n",
       "      <th>Tomorrow</th>\n",
       "      <th>Target</th>\n",
       "      <th>Close_Ratio_2</th>\n",
       "      <th>Trend_2</th>\n",
       "      <th>Close_Ratio_5</th>\n",
       "      <th>Trend_5</th>\n",
       "      <th>Close_Ratio_60</th>\n",
       "      <th>Trend_60</th>\n",
       "      <th>Close_Ratio_252</th>\n",
       "      <th>Trend_252</th>\n",
       "      <th>Close_Ratio_1008</th>\n",
       "      <th>Trend_1008</th>\n",
       "    </tr>\n",
       "    <tr>\n",
       "      <th>Date</th>\n",
       "      <th></th>\n",
       "      <th></th>\n",
       "      <th></th>\n",
       "      <th></th>\n",
       "      <th></th>\n",
       "      <th></th>\n",
       "      <th></th>\n",
       "      <th></th>\n",
       "      <th></th>\n",
       "      <th></th>\n",
       "      <th></th>\n",
       "      <th></th>\n",
       "      <th></th>\n",
       "      <th></th>\n",
       "      <th></th>\n",
       "      <th></th>\n",
       "      <th></th>\n",
       "    </tr>\n",
       "  </thead>\n",
       "  <tbody>\n",
       "    <tr>\n",
       "      <th>1993-12-27 00:00:00-05:00</th>\n",
       "      <td>467.399994</td>\n",
       "      <td>470.549988</td>\n",
       "      <td>467.350006</td>\n",
       "      <td>470.540009</td>\n",
       "      <td>171200000</td>\n",
       "      <td>470.940002</td>\n",
       "      <td>1</td>\n",
       "      <td>1.003369</td>\n",
       "      <td>2.0</td>\n",
       "      <td>1.006981</td>\n",
       "      <td>3.0</td>\n",
       "      <td>1.014212</td>\n",
       "      <td>34.0</td>\n",
       "      <td>1.042936</td>\n",
       "      <td>130.0</td>\n",
       "      <td>1.193341</td>\n",
       "      <td>517.0</td>\n",
       "    </tr>\n",
       "    <tr>\n",
       "      <th>1993-12-28 00:00:00-05:00</th>\n",
       "      <td>470.609985</td>\n",
       "      <td>471.049988</td>\n",
       "      <td>469.429993</td>\n",
       "      <td>470.940002</td>\n",
       "      <td>200960000</td>\n",
       "      <td>470.579987</td>\n",
       "      <td>0</td>\n",
       "      <td>1.000425</td>\n",
       "      <td>2.0</td>\n",
       "      <td>1.005646</td>\n",
       "      <td>4.0</td>\n",
       "      <td>1.014722</td>\n",
       "      <td>34.0</td>\n",
       "      <td>1.043520</td>\n",
       "      <td>131.0</td>\n",
       "      <td>1.194019</td>\n",
       "      <td>518.0</td>\n",
       "    </tr>\n",
       "    <tr>\n",
       "      <th>1993-12-29 00:00:00-05:00</th>\n",
       "      <td>470.880005</td>\n",
       "      <td>471.290009</td>\n",
       "      <td>469.869995</td>\n",
       "      <td>470.579987</td>\n",
       "      <td>269570000</td>\n",
       "      <td>468.640015</td>\n",
       "      <td>0</td>\n",
       "      <td>0.999618</td>\n",
       "      <td>1.0</td>\n",
       "      <td>1.002616</td>\n",
       "      <td>4.0</td>\n",
       "      <td>1.013610</td>\n",
       "      <td>33.0</td>\n",
       "      <td>1.042432</td>\n",
       "      <td>130.0</td>\n",
       "      <td>1.192761</td>\n",
       "      <td>518.0</td>\n",
       "    </tr>\n",
       "    <tr>\n",
       "      <th>1993-12-30 00:00:00-05:00</th>\n",
       "      <td>470.579987</td>\n",
       "      <td>470.579987</td>\n",
       "      <td>468.089996</td>\n",
       "      <td>468.640015</td>\n",
       "      <td>195860000</td>\n",
       "      <td>466.450012</td>\n",
       "      <td>0</td>\n",
       "      <td>0.997934</td>\n",
       "      <td>0.0</td>\n",
       "      <td>0.997922</td>\n",
       "      <td>3.0</td>\n",
       "      <td>1.009162</td>\n",
       "      <td>33.0</td>\n",
       "      <td>1.037834</td>\n",
       "      <td>130.0</td>\n",
       "      <td>1.187496</td>\n",
       "      <td>518.0</td>\n",
       "    </tr>\n",
       "    <tr>\n",
       "      <th>1993-12-31 00:00:00-05:00</th>\n",
       "      <td>468.660004</td>\n",
       "      <td>470.750000</td>\n",
       "      <td>466.450012</td>\n",
       "      <td>466.450012</td>\n",
       "      <td>168590000</td>\n",
       "      <td>465.440002</td>\n",
       "      <td>0</td>\n",
       "      <td>0.997658</td>\n",
       "      <td>0.0</td>\n",
       "      <td>0.993652</td>\n",
       "      <td>2.0</td>\n",
       "      <td>1.004240</td>\n",
       "      <td>33.0</td>\n",
       "      <td>1.032702</td>\n",
       "      <td>130.0</td>\n",
       "      <td>1.181613</td>\n",
       "      <td>517.0</td>\n",
       "    </tr>\n",
       "    <tr>\n",
       "      <th>...</th>\n",
       "      <td>...</td>\n",
       "      <td>...</td>\n",
       "      <td>...</td>\n",
       "      <td>...</td>\n",
       "      <td>...</td>\n",
       "      <td>...</td>\n",
       "      <td>...</td>\n",
       "      <td>...</td>\n",
       "      <td>...</td>\n",
       "      <td>...</td>\n",
       "      <td>...</td>\n",
       "      <td>...</td>\n",
       "      <td>...</td>\n",
       "      <td>...</td>\n",
       "      <td>...</td>\n",
       "      <td>...</td>\n",
       "      <td>...</td>\n",
       "    </tr>\n",
       "    <tr>\n",
       "      <th>2023-07-21 00:00:00-04:00</th>\n",
       "      <td>4550.160156</td>\n",
       "      <td>4555.000000</td>\n",
       "      <td>4535.790039</td>\n",
       "      <td>4536.339844</td>\n",
       "      <td>3570190000</td>\n",
       "      <td>4554.640137</td>\n",
       "      <td>1</td>\n",
       "      <td>1.000162</td>\n",
       "      <td>1.0</td>\n",
       "      <td>0.998547</td>\n",
       "      <td>4.0</td>\n",
       "      <td>1.056627</td>\n",
       "      <td>34.0</td>\n",
       "      <td>1.122061</td>\n",
       "      <td>122.0</td>\n",
       "      <td>1.192025</td>\n",
       "      <td>539.0</td>\n",
       "    </tr>\n",
       "    <tr>\n",
       "      <th>2023-07-24 00:00:00-04:00</th>\n",
       "      <td>4543.390137</td>\n",
       "      <td>4563.410156</td>\n",
       "      <td>4541.290039</td>\n",
       "      <td>4554.640137</td>\n",
       "      <td>3856250000</td>\n",
       "      <td>4567.459961</td>\n",
       "      <td>1</td>\n",
       "      <td>1.002013</td>\n",
       "      <td>2.0</td>\n",
       "      <td>1.001172</td>\n",
       "      <td>4.0</td>\n",
       "      <td>1.058840</td>\n",
       "      <td>35.0</td>\n",
       "      <td>1.125974</td>\n",
       "      <td>122.0</td>\n",
       "      <td>1.196344</td>\n",
       "      <td>539.0</td>\n",
       "    </tr>\n",
       "    <tr>\n",
       "      <th>2023-07-25 00:00:00-04:00</th>\n",
       "      <td>4555.189941</td>\n",
       "      <td>4580.620117</td>\n",
       "      <td>4552.419922</td>\n",
       "      <td>4567.459961</td>\n",
       "      <td>3812470000</td>\n",
       "      <td>4566.750000</td>\n",
       "      <td>0</td>\n",
       "      <td>1.001405</td>\n",
       "      <td>2.0</td>\n",
       "      <td>1.003439</td>\n",
       "      <td>4.0</td>\n",
       "      <td>1.060046</td>\n",
       "      <td>35.0</td>\n",
       "      <td>1.128472</td>\n",
       "      <td>123.0</td>\n",
       "      <td>1.199223</td>\n",
       "      <td>539.0</td>\n",
       "    </tr>\n",
       "    <tr>\n",
       "      <th>2023-07-26 00:00:00-04:00</th>\n",
       "      <td>4558.959961</td>\n",
       "      <td>4582.470215</td>\n",
       "      <td>4547.580078</td>\n",
       "      <td>4566.750000</td>\n",
       "      <td>3990290000</td>\n",
       "      <td>4537.410156</td>\n",
       "      <td>0</td>\n",
       "      <td>0.999922</td>\n",
       "      <td>1.0</td>\n",
       "      <td>1.003238</td>\n",
       "      <td>3.0</td>\n",
       "      <td>1.058255</td>\n",
       "      <td>34.0</td>\n",
       "      <td>1.127633</td>\n",
       "      <td>122.0</td>\n",
       "      <td>1.198554</td>\n",
       "      <td>538.0</td>\n",
       "    </tr>\n",
       "    <tr>\n",
       "      <th>2023-07-27 00:00:00-04:00</th>\n",
       "      <td>4598.259766</td>\n",
       "      <td>4607.069824</td>\n",
       "      <td>4528.560059</td>\n",
       "      <td>4537.410156</td>\n",
       "      <td>4553210000</td>\n",
       "      <td>4582.229980</td>\n",
       "      <td>1</td>\n",
       "      <td>0.996777</td>\n",
       "      <td>0.0</td>\n",
       "      <td>0.996681</td>\n",
       "      <td>3.0</td>\n",
       "      <td>1.049957</td>\n",
       "      <td>34.0</td>\n",
       "      <td>1.119713</td>\n",
       "      <td>122.0</td>\n",
       "      <td>1.190378</td>\n",
       "      <td>538.0</td>\n",
       "    </tr>\n",
       "  </tbody>\n",
       "</table>\n",
       "<p>7449 rows × 17 columns</p>\n",
       "</div>"
      ],
      "text/plain": [
       "                                  Open         High          Low        Close  \\\n",
       "Date                                                                            \n",
       "1993-12-27 00:00:00-05:00   467.399994   470.549988   467.350006   470.540009   \n",
       "1993-12-28 00:00:00-05:00   470.609985   471.049988   469.429993   470.940002   \n",
       "1993-12-29 00:00:00-05:00   470.880005   471.290009   469.869995   470.579987   \n",
       "1993-12-30 00:00:00-05:00   470.579987   470.579987   468.089996   468.640015   \n",
       "1993-12-31 00:00:00-05:00   468.660004   470.750000   466.450012   466.450012   \n",
       "...                                ...          ...          ...          ...   \n",
       "2023-07-21 00:00:00-04:00  4550.160156  4555.000000  4535.790039  4536.339844   \n",
       "2023-07-24 00:00:00-04:00  4543.390137  4563.410156  4541.290039  4554.640137   \n",
       "2023-07-25 00:00:00-04:00  4555.189941  4580.620117  4552.419922  4567.459961   \n",
       "2023-07-26 00:00:00-04:00  4558.959961  4582.470215  4547.580078  4566.750000   \n",
       "2023-07-27 00:00:00-04:00  4598.259766  4607.069824  4528.560059  4537.410156   \n",
       "\n",
       "                               Volume     Tomorrow  Target  Close_Ratio_2  \\\n",
       "Date                                                                        \n",
       "1993-12-27 00:00:00-05:00   171200000   470.940002       1       1.003369   \n",
       "1993-12-28 00:00:00-05:00   200960000   470.579987       0       1.000425   \n",
       "1993-12-29 00:00:00-05:00   269570000   468.640015       0       0.999618   \n",
       "1993-12-30 00:00:00-05:00   195860000   466.450012       0       0.997934   \n",
       "1993-12-31 00:00:00-05:00   168590000   465.440002       0       0.997658   \n",
       "...                               ...          ...     ...            ...   \n",
       "2023-07-21 00:00:00-04:00  3570190000  4554.640137       1       1.000162   \n",
       "2023-07-24 00:00:00-04:00  3856250000  4567.459961       1       1.002013   \n",
       "2023-07-25 00:00:00-04:00  3812470000  4566.750000       0       1.001405   \n",
       "2023-07-26 00:00:00-04:00  3990290000  4537.410156       0       0.999922   \n",
       "2023-07-27 00:00:00-04:00  4553210000  4582.229980       1       0.996777   \n",
       "\n",
       "                           Trend_2  Close_Ratio_5  Trend_5  Close_Ratio_60  \\\n",
       "Date                                                                         \n",
       "1993-12-27 00:00:00-05:00      2.0       1.006981      3.0        1.014212   \n",
       "1993-12-28 00:00:00-05:00      2.0       1.005646      4.0        1.014722   \n",
       "1993-12-29 00:00:00-05:00      1.0       1.002616      4.0        1.013610   \n",
       "1993-12-30 00:00:00-05:00      0.0       0.997922      3.0        1.009162   \n",
       "1993-12-31 00:00:00-05:00      0.0       0.993652      2.0        1.004240   \n",
       "...                            ...            ...      ...             ...   \n",
       "2023-07-21 00:00:00-04:00      1.0       0.998547      4.0        1.056627   \n",
       "2023-07-24 00:00:00-04:00      2.0       1.001172      4.0        1.058840   \n",
       "2023-07-25 00:00:00-04:00      2.0       1.003439      4.0        1.060046   \n",
       "2023-07-26 00:00:00-04:00      1.0       1.003238      3.0        1.058255   \n",
       "2023-07-27 00:00:00-04:00      0.0       0.996681      3.0        1.049957   \n",
       "\n",
       "                           Trend_60  Close_Ratio_252  Trend_252  \\\n",
       "Date                                                              \n",
       "1993-12-27 00:00:00-05:00      34.0         1.042936      130.0   \n",
       "1993-12-28 00:00:00-05:00      34.0         1.043520      131.0   \n",
       "1993-12-29 00:00:00-05:00      33.0         1.042432      130.0   \n",
       "1993-12-30 00:00:00-05:00      33.0         1.037834      130.0   \n",
       "1993-12-31 00:00:00-05:00      33.0         1.032702      130.0   \n",
       "...                             ...              ...        ...   \n",
       "2023-07-21 00:00:00-04:00      34.0         1.122061      122.0   \n",
       "2023-07-24 00:00:00-04:00      35.0         1.125974      122.0   \n",
       "2023-07-25 00:00:00-04:00      35.0         1.128472      123.0   \n",
       "2023-07-26 00:00:00-04:00      34.0         1.127633      122.0   \n",
       "2023-07-27 00:00:00-04:00      34.0         1.119713      122.0   \n",
       "\n",
       "                           Close_Ratio_1008  Trend_1008  \n",
       "Date                                                     \n",
       "1993-12-27 00:00:00-05:00          1.193341       517.0  \n",
       "1993-12-28 00:00:00-05:00          1.194019       518.0  \n",
       "1993-12-29 00:00:00-05:00          1.192761       518.0  \n",
       "1993-12-30 00:00:00-05:00          1.187496       518.0  \n",
       "1993-12-31 00:00:00-05:00          1.181613       517.0  \n",
       "...                                     ...         ...  \n",
       "2023-07-21 00:00:00-04:00          1.192025       539.0  \n",
       "2023-07-24 00:00:00-04:00          1.196344       539.0  \n",
       "2023-07-25 00:00:00-04:00          1.199223       539.0  \n",
       "2023-07-26 00:00:00-04:00          1.198554       538.0  \n",
       "2023-07-27 00:00:00-04:00          1.190378       538.0  \n",
       "\n",
       "[7449 rows x 17 columns]"
      ]
     },
     "execution_count": 25,
     "metadata": {},
     "output_type": "execute_result"
    }
   ],
   "source": [
    "spy = spy.dropna()\n",
    "spy"
   ]
  },
  {
   "cell_type": "code",
   "execution_count": 26,
   "metadata": {},
   "outputs": [],
   "source": [
    "model = RandomForestClassifier(n_estimators=200, min_samples_split=50, random_state=1)"
   ]
  },
  {
   "cell_type": "code",
   "execution_count": 27,
   "metadata": {},
   "outputs": [],
   "source": [
    "def predict(train,test,pred,model):\n",
    "    model.fit(train[pred],train[\"Target\"])\n",
    "    preds = model.predict_proba(test[pred])[:,1]\n",
    "    preds[preds>= .6] = 1\n",
    "    preds[preds < .6] = 0\n",
    "    preds = pd.Series(preds,index=test.index,name=\"Predictions\")\n",
    "    combined = pd.concat([test[\"Target\"],preds],axis=1)\n",
    "    return combined"
   ]
  },
  {
   "cell_type": "code",
   "execution_count": 28,
   "metadata": {},
   "outputs": [],
   "source": [
    "predictions = backtest(spy, model, new_pred)"
   ]
  },
  {
   "cell_type": "code",
   "execution_count": 29,
   "metadata": {},
   "outputs": [
    {
     "data": {
      "text/plain": [
       "0.0    3970\n",
       "1.0     959\n",
       "Name: Predictions, dtype: int64"
      ]
     },
     "execution_count": 29,
     "metadata": {},
     "output_type": "execute_result"
    }
   ],
   "source": [
    "predictions[\"Predictions\"].value_counts()"
   ]
  },
  {
   "cell_type": "code",
   "execution_count": 30,
   "metadata": {},
   "outputs": [
    {
     "data": {
      "text/plain": [
       "0.5776850886339937"
      ]
     },
     "execution_count": 30,
     "metadata": {},
     "output_type": "execute_result"
    }
   ],
   "source": [
    "precision_score(predictions[\"Target\"],predictions[\"Predictions\"])"
   ]
  }
 ],
 "metadata": {
  "kernelspec": {
   "display_name": "base",
   "language": "python",
   "name": "python3"
  },
  "language_info": {
   "codemirror_mode": {
    "name": "ipython",
    "version": 3
   },
   "file_extension": ".py",
   "mimetype": "text/x-python",
   "name": "python",
   "nbconvert_exporter": "python",
   "pygments_lexer": "ipython3",
   "version": "3.9.12"
  },
  "orig_nbformat": 4
 },
 "nbformat": 4,
 "nbformat_minor": 2
}
